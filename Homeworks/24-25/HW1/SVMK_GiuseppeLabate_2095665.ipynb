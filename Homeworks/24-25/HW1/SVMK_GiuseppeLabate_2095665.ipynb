{
 "cells": [
  {
   "cell_type": "markdown",
   "metadata": {},
   "source": [
    "#  Regression on Diamonds Price Dataset with SVM\n",
    "\n",
    "The **Diamonds dataset** from Kaggle is a dataset containing information about the physical and pricing attributes of nearly 54,000 diamonds. The dataset is commonly employed in tasks like regression analysis, feature engineering, and exploratory data analysis.\n",
    "\n",
    "We will consider a **reduced version** of the dataset, containing 4000 samples, and without categorical features.\n",
    "\n",
    "### Key Features:\n",
    "- **Carat**: The weight of the diamond.\n",
    "- **Depth**: The total depth percentage (z / mean(x, y)).\n",
    "- **Table**: Width of the diamond's top as a percentage of its widest point.\n",
    "- **Price**: Price in US dollars.\n",
    "- **X, Y, Z**: Dimensions of the diamond in mm (length, width, depth).\n",
    "\n",
    "This dataset is useful for exploring relationships between physical attributes and pricing, and for building predictive models to estimate diamond prices based on their features.\n",
    "\n",
    "For more information see: https://www.kaggle.com/datasets/shivam2503/diamonds."
   ]
  },
  {
   "cell_type": "markdown",
   "metadata": {},
   "source": [
    "# Overview\n",
    "\n",
    "In the notebook you will perform a complete pipeline of machine learning - regression task. First, you will:\n",
    "- split the data into training, validation, and test;\n",
    "- standardize the data.\n",
    "\n",
    "You will then be asked to learn various SVM models, in particular:\n",
    "- for each of the kernels *linear*, *poly*, *rbf*, and *sigmoid*, you will learn the best model, choosing among some fixed values of the considered hyperparameters. In particular, the choice of hyperparameters must be done with **5-fold cross-validation**, as we have seen in the labs.\n",
    "\n",
    "Then, from the models trained with the best hyperparameters selected as above, you will:\n",
    "- choose the best kernel, using a validation approach (not cross-validation), and\n",
    "- learn the best SVM model overall.\n",
    "\n",
    "Furthermore, you will then be asked to estimate the generalization error of the best SVM model you report. \n",
    "\n",
    "At the end, just for comparison, you will also be asked to learn a standard linear regression model (with squared loss), and estimate its generalization error.\n",
    "\n",
    "### IMPORTANT\n",
    "- Note that in each of the above steps you will have to choose the appropriate split of the data (see the first bullet point above);\n",
    "- The code should run without requiring modifications even if some best choice of parameters, changes; for example, you should not pass the best value of hyperparameters \"manually\" (i.e., passing the values as input parameters to the models). The only exception is in the TO DO titled 'ANSWER THE FOLLOWING'\n",
    "- $\\texttt{epsilon}$ parameter: For SVM, since the values to be predicted are all in the thousands of dollars, you will need to always set $\\texttt{epsilon} = 100$\n",
    "- Do not change the printing instructions (other than adding the correct variable name for your code), and do not add printing instructions!"
   ]
  },
  {
   "cell_type": "markdown",
   "metadata": {},
   "source": [
    "## TO DO - INSERT YOUR NUMERO DI MATRICOLA BELOW"
   ]
  },
  {
   "cell_type": "code",
   "execution_count": 1,
   "metadata": {
    "tags": []
   },
   "outputs": [],
   "source": [
    "# -- put here your ID number (numero di matricola)\n",
    "numero_di_matricola = 2095665 # COMPLETE"
   ]
  },
  {
   "cell_type": "markdown",
   "metadata": {},
   "source": [
    "The following code loads all required packages"
   ]
  },
  {
   "cell_type": "code",
   "execution_count": 2,
   "metadata": {
    "tags": []
   },
   "outputs": [],
   "source": [
    "# -- import all packages needed\n",
    "import pandas as pd\n",
    "import numpy as np\n",
    "from sklearn.model_selection import train_test_split\n",
    "from sklearn import preprocessing\n",
    "from sklearn import svm\n",
    "from sklearn import model_selection\n",
    "from sklearn import linear_model\n",
    "from sklearn.model_selection import KFold\n",
    "from itertools import product"
   ]
  },
  {
   "cell_type": "markdown",
   "metadata": {
    "tags": []
   },
   "source": [
    "The code below loads the data and remove samples with missing values. It also prints the number of samples and a brief description of our dataset."
   ]
  },
  {
   "cell_type": "code",
   "execution_count": 3,
   "metadata": {
    "tags": []
   },
   "outputs": [],
   "source": [
    "# -- load the data - do not change the path below!\n",
    "df = pd.read_csv('diamonds.csv', sep = ',')\n",
    "\n",
    "# -- remove the data samples with missing values (NaN)\n",
    "df = df.dropna()\n",
    "# -- let's drop the column containing the id of the data\n",
    "df = df.drop(columns=['Unnamed: 0'], axis=1)"
   ]
  },
  {
   "cell_type": "code",
   "execution_count": 4,
   "metadata": {},
   "outputs": [
    {
     "name": "stdout",
     "output_type": "stream",
     "text": [
      "Dataset shape: (4000, 7)\n",
      "             carat        depth       table         price            x  \\\n",
      "count  4000.000000  4000.000000  4000.00000   4000.000000  4000.000000   \n",
      "mean      0.797945    61.776925    57.44035   3920.239250     5.735810   \n",
      "std       0.462251     1.468899     2.26052   3935.292841     1.106897   \n",
      "min       0.210000    52.200000    52.00000    339.000000     0.000000   \n",
      "25%       0.400000    61.100000    56.00000    936.000000     4.720000   \n",
      "50%       0.710000    61.900000    57.00000   2468.000000     5.710000   \n",
      "75%       1.050000    62.500000    59.00000   5297.500000     6.550000   \n",
      "max       3.010000    70.600000    79.00000  18730.000000     9.100000   \n",
      "\n",
      "                 y            z  \n",
      "count  4000.000000  4000.000000  \n",
      "mean      5.736307     3.540002  \n",
      "std       1.099129     0.691834  \n",
      "min       0.000000     0.000000  \n",
      "25%       4.730000     2.910000  \n",
      "50%       5.730000     3.540000  \n",
      "75%       6.550000     4.040000  \n",
      "max       8.970000     5.670000  \n"
     ]
    }
   ],
   "source": [
    "print('Dataset shape:', df.shape)\n",
    "# -- description of dataset\n",
    "print(df.describe())"
   ]
  },
  {
   "cell_type": "code",
   "execution_count": 5,
   "metadata": {},
   "outputs": [
    {
     "name": "stdout",
     "output_type": "stream",
     "text": [
      "First 5 samples of the dataset:\n",
      "\n",
      "    carat  depth  table  price     x     y     z\n",
      "0   0.33   61.7   55.0    564  4.43  4.46  2.74\n",
      "1   1.20   62.1   57.0   5914  6.78  6.71  4.19\n",
      "2   0.62   61.0   57.0   2562  5.51  5.54  3.37\n",
      "3   0.34   63.1   56.0    537  4.41  4.46  2.80\n",
      "4   1.20   62.5   55.0   5964  6.77  6.84  4.25\n"
     ]
    }
   ],
   "source": [
    "print('First 5 samples of the dataset:\\n\\n', df.head(5))"
   ]
  },
  {
   "cell_type": "markdown",
   "metadata": {},
   "source": [
    "In the following cell, we convert our (pandas) dataframe into set X (containing our features) and the set Y (containing our target, i.e., the price)"
   ]
  },
  {
   "cell_type": "code",
   "execution_count": 6,
   "metadata": {},
   "outputs": [
    {
     "name": "stdout",
     "output_type": "stream",
     "text": [
      "Total number of samples: 4000\n",
      "X shape:  (4000, 6)\n",
      "Y shape:  (4000,)\n"
     ]
    }
   ],
   "source": [
    "m = df.shape[0]\n",
    "\n",
    "# -- let's compute X and Y sets\n",
    "X = df.drop(columns=['price'], axis=1)\n",
    "Y = df['price']\n",
    "\n",
    "print(\"Total number of samples:\", m)\n",
    "\n",
    "X = X.values\n",
    "Y = Y.values\n",
    "\n",
    "# -- print shapes\n",
    "print('X shape: ', X.shape)\n",
    "print('Y shape: ', Y.shape)"
   ]
  },
  {
   "cell_type": "markdown",
   "metadata": {
    "tags": []
   },
   "source": [
    "# Data preprocessing"
   ]
  },
  {
   "cell_type": "markdown",
   "metadata": {},
   "source": [
    "## TO DO - SPLIT DATA INTO TRAINING, VALIDATION, AND TESTING, WITH THE FOLLOWING PERCENTAGES: 60%, 20%, 20%\n",
    "\n",
    "Use the $\\texttt{train\\_test\\_split}$ function from sklearn.model_selection to do it; in every call fix $\\texttt{random\\_state}$ to your numero_di_matricola. \n",
    "At the end, you should store the data in the following variables:\n",
    "- X_train, Y_train: training data;\n",
    "- X_val, Y_val: validation data;\n",
    "- X_train_val, Y_train_val: training and validation data;\n",
    "- X_test, Y_test: test data.\n",
    "\n",
    "The code then prints the number of samples in X_train, X_val, X_train_val, and X_test\n",
    "\n",
    "**IMPORTANT:**\n",
    "- first split the data into training+validation and test; the first part of the data in output from $\\texttt{train\\_test\\_split}$ must correspond to the training+validation;\n",
    "- then split training+validation into training and validation; the first part of the data in output from $\\texttt{train\\_test\\_split}$ must correspond to the training\n"
   ]
  },
  {
   "cell_type": "code",
   "execution_count": 7,
   "metadata": {
    "tags": []
   },
   "outputs": [
    {
     "name": "stdout",
     "output_type": "stream",
     "text": [
      "Training size: 2400\n",
      "Validation size: 800\n",
      "Training and validation size: 3200\n",
      "Test size: 800\n"
     ]
    }
   ],
   "source": [
    "# -- split the data into training + validation and test\n",
    "X_train_val, X_test, Y_train_val, Y_test = train_test_split(X, Y, test_size=0.2, random_state=numero_di_matricola)\n",
    "\n",
    "# -- split the training + validation data into training and validation\n",
    "X_train, X_val, Y_train, Y_val = train_test_split(X_train_val, Y_train_val, test_size=0.25, random_state=numero_di_matricola) # 0.25 x 0.8 = 0.2\n",
    "\n",
    "print(\"Training size:\", X_train.shape[0])\n",
    "print(\"Validation size:\", X_val.shape[0])\n",
    "print(\"Training and validation size:\", X_train_val.shape[0])\n",
    "print(\"Test size:\", X_test.shape[0])"
   ]
  },
  {
   "cell_type": "markdown",
   "metadata": {},
   "source": [
    "## TO DO - STANDARDIZE THE DATA\n",
    "\n",
    "Standardize the data using the $\\texttt{preprocessing.StandardScaler}$ from scikit learn.\n",
    "\n",
    "If V is the name of the variable storing part of the data, the corresponding standardized version should be stored in V_scaled. For example, the scaled version of X_train should be stored in X_train_scaled."
   ]
  },
  {
   "cell_type": "code",
   "execution_count": 8,
   "metadata": {
    "tags": []
   },
   "outputs": [],
   "source": [
    "# -- Create a StandardScaler object and fit it on the training set\n",
    "scaler = preprocessing.StandardScaler().fit(X_train)\n",
    "\n",
    "# -- Apply the scaler on the training and validation sets\n",
    "X_train_scaled = scaler.transform(X_train)\n",
    "X_val_scaled = scaler.transform(X_val)"
   ]
  },
  {
   "cell_type": "markdown",
   "metadata": {
    "tags": []
   },
   "source": [
    "# SVM models: learning the best model for each kernel"
   ]
  },
  {
   "cell_type": "markdown",
   "metadata": {},
   "source": [
    "The following function, i.e., $\\texttt{k\\_fold\\_cross\\_validation}$, will perform $k$-fold cross validation (with $k$ = 5 by default). Look carefully at the signature of the below function: you have in input some sets X and Y, the default number of folds, and a length-variable keyword argumens, with which the SVM model will be trained in the cross-validation phase. If you are not familiar with the notation, look at kwargs in Python documentation.\n",
    "\n",
    "In the first lines of the below function, the unpacked parameters (i.e., input parameter $\\texttt{param\\_grid}$) are converted into a python list by means of cartesian product. The resulting list (i.e., $\\texttt{param\\_list}$) will be the one for which you need to iterate over and perform $k$-fold cross-validation, using $\\texttt{KFold}$ object frmo scikit-learn.\n",
    "\n",
    "At the end, note that you need to return $\\texttt{best\\_param}$, that is the best set of parameters you found with the cross-validation procedure. "
   ]
  },
  {
   "cell_type": "code",
   "execution_count": 9,
   "metadata": {},
   "outputs": [],
   "source": [
    "def k_fold_cross_validation(X, Y, num_folds = 5, **param_grid):\n",
    "\n",
    "    # -- grid of hyperparams into list\n",
    "    param_keys = list(param_grid.keys())\n",
    "    param_values = list(param_grid.values())\n",
    "\n",
    "    # Generate Cartesian product of values\n",
    "    combinations = product(*param_values)\n",
    "\n",
    "    # Create a list of dictionaries from combinations\n",
    "    param_list = [dict(zip(param_keys, combination)) for combination in combinations]\n",
    "\n",
    "    best_param = None\n",
    "    kf = KFold(n_splits=num_folds)\n",
    "    err_train_kfold = np.zeros(len(param_list),)\n",
    "    err_val_kfold = np.zeros(len(param_list),)\n",
    "\n",
    "    for i, param in enumerate(param_list):\n",
    "        model = svm.SVR(**param)  # create a model with the current parameter\n",
    "\n",
    "        for train_index, val_index in kf.split(X):\n",
    "\n",
    "\t\t\t# -- split the data into training and validation according to the current fold\n",
    "            X_train_kfold, X_val_kfold = X[train_index], X[val_index]\n",
    "            Y_train_kfold, Y_val_kfold = Y[train_index], Y[val_index]\n",
    "\n",
    "            # -- standardize the data\n",
    "            scaler_kfold = preprocessing.StandardScaler().fit(X_train_kfold)\n",
    "            X_train_kfold_scaled = scaler_kfold.transform(X_train_kfold)\n",
    "            X_val_kfold_scaled = scaler_kfold.transform(X_val_kfold)\n",
    "\n",
    "\t\t\t# -- model training\n",
    "            model.fit(X_train_kfold_scaled, Y_train_kfold)\n",
    "\n",
    "\t\t\t# -- (1 - R^2) as error\n",
    "            err_train_kfold[i] += (1 - model.score(X_train_kfold_scaled, Y_train_kfold))\n",
    "            err_val_kfold[i] += (1 - model.score(X_val_kfold_scaled, Y_val_kfold))\n",
    "\n",
    "\t# -- compute the mean for each parameter\n",
    "    err_train_kfold /= num_folds\n",
    "    err_val_kfold /= num_folds\n",
    "\n",
    "\t# -- find the best parameter (the one that minimizes the error on the validation set)\n",
    "    best_param = param_list[np.argmin(err_val_kfold)]\n",
    "\n",
    "    return best_param"
   ]
  },
  {
   "cell_type": "markdown",
   "metadata": {},
   "source": [
    "## TO DO - CHOOSE THE BEST HYPERPARAMETERS FOR LINEAR KERNEL\n",
    "\n",
    "For the SVM, consider $\\texttt{svm.SVR}$ class. We will begin by training the SVM with linear kernel. For the latter, consider the following hyperparameters and their values:\n",
    "\n",
    "- $C: [0.1, 1, 10, 100, 1000]$\n",
    "\n",
    "Remember that both the $\\texttt{kernel}$ type and the value of $\\texttt{epsilon}$ are considered as parameters to pass to the above method. Leave all other input parameters to default. \n",
    "\n",
    "Find the best value of the hyperparameters using 5-fold cross validation. Use the function defined above to perform the cross-validation.\n",
    "\n",
    "Print the best value of the hyperparameters."
   ]
  },
  {
   "cell_type": "code",
   "execution_count": 10,
   "metadata": {},
   "outputs": [
    {
     "name": "stdout",
     "output_type": "stream",
     "text": [
      "\n",
      "Linear SVM:\n",
      "Best value for hyperparameters:  {'kernel': 'linear', 'C': 1000, 'epsilon': 100}\n"
     ]
    }
   ],
   "source": [
    "print(\"\\nLinear SVM:\")\n",
    "\n",
    "linear_best_param = k_fold_cross_validation(X_train_val,\n",
    "                                            Y_train_val,\n",
    "                                            num_folds=5,\n",
    "                                            kernel = ['linear'],\n",
    "                                            C=[0.1, 1, 10, 100, 1000],\n",
    "                                            epsilon = [100]\n",
    "                                            )\n",
    "\n",
    "print(\"Best value for hyperparameters: \", linear_best_param)"
   ]
  },
  {
   "cell_type": "markdown",
   "metadata": {},
   "source": [
    "## TO DO - LEARN A MODEL WITH LINEAR KERNEL AND BEST CHOICE OF HYPERPARAMETERS\n",
    "\n",
    "This model will be compared with the best models with other kernels using validation (not cross validation).\n",
    "\n",
    "DO NOT PASS PARAMETERS BY HARD-CODING THEM IN THE CODE.\n",
    "\n",
    "Print the **training score** (that is, $R^2$ coefficient) of the best model, trained with the best parameter find from the above cell."
   ]
  },
  {
   "cell_type": "code",
   "execution_count": 11,
   "metadata": {},
   "outputs": [
    {
     "name": "stdout",
     "output_type": "stream",
     "text": [
      "Training score: 0.8463423306879191\n"
     ]
    }
   ],
   "source": [
    "linearKernel_model = svm.SVR(kernel=linear_best_param['kernel'],\n",
    "                            C=linear_best_param['C'],\n",
    "                            epsilon=linear_best_param['epsilon']\n",
    "                            )  # create a model with the current best parameter\n",
    "\n",
    "linearKernel_model.fit(X_train_scaled, Y_train)\n",
    "linear_training_score = linearKernel_model.score(X_train_scaled, Y_train)\n",
    "print(\"Training score:\", linear_training_score)"
   ]
  },
  {
   "cell_type": "markdown",
   "metadata": {},
   "source": [
    "## TO DO - CHOOSE THE BEST HYPERPARAMETERS FOR POLY KERNEL\n",
    "\n",
    "Now, let's consider $\\texttt{svm.SVR}$ with polynomial kernel. Consider the following hyperparameters and their values:\n",
    "- $C: [0.1, 1, 10, 100, 1000]$\n",
    "- $degree: [2, 3, 4]$\n",
    "\n",
    "Leave all other input parameters to default. \n",
    "\n",
    "Find the best value of the hyperparameters using 5-fold cross validation. Use the function defined above to perform the cross-validation.\n",
    "\n",
    "Print the best value of the hyperparameters."
   ]
  },
  {
   "cell_type": "code",
   "execution_count": 12,
   "metadata": {
    "tags": []
   },
   "outputs": [
    {
     "name": "stdout",
     "output_type": "stream",
     "text": [
      "\n",
      "Poly SVM\n",
      "Best value for hyperparameters:  {'kernel': 'poly', 'degree': 3, 'C': 1000, 'epsilon': 100}\n"
     ]
    }
   ],
   "source": [
    "print(\"\\nPoly SVM\")\n",
    "\n",
    "poly_best_param = k_fold_cross_validation(X_train_val,\n",
    "                                          Y_train_val,\n",
    "                                          num_folds=5,\n",
    "                                          kernel = ['poly'],\n",
    "                                          degree = [2, 3, 4],\n",
    "                                          C=[0.1, 1, 10, 100, 1000],\n",
    "                                          epsilon = [100]\n",
    "                                          )\n",
    "\n",
    "print(\"Best value for hyperparameters: \", poly_best_param)"
   ]
  },
  {
   "cell_type": "markdown",
   "metadata": {
    "tags": []
   },
   "source": [
    "## TO DO - LEARN A MODEL WITH POLY KERNEL AND BEST CHOICE OF HYPERPARAMETERS\n",
    "\n",
    "This model will be compared with the best models with other kernels using validation (not cross validation).\n",
    "\n",
    "DO NOT PASS PARAMETERS BY HARD-CODING THEM IN THE CODE.\n",
    "\n",
    "Print the **training score** (that is, $R^2$ coefficient) of the best model, trained with the best parameter find from the above cell."
   ]
  },
  {
   "cell_type": "code",
   "execution_count": 13,
   "metadata": {
    "tags": []
   },
   "outputs": [
    {
     "name": "stdout",
     "output_type": "stream",
     "text": [
      "Training score: 0.7045297720322465\n"
     ]
    }
   ],
   "source": [
    "poly_model = svm.SVR(kernel=poly_best_param['kernel'],\n",
    "                     degree=poly_best_param['degree'],\n",
    "                     C=poly_best_param['C'],\n",
    "                     epsilon=poly_best_param['epsilon']\n",
    "                     )  # create a model with the current best parameter\n",
    "\n",
    "poly_model.fit(X_train_scaled, Y_train)\n",
    "poly_training_score = poly_model.score(X_train_scaled, Y_train)\n",
    "print(\"Training score:\", poly_training_score)"
   ]
  },
  {
   "cell_type": "markdown",
   "metadata": {},
   "source": [
    "## TO DO - CHOOSE THE BEST HYPERPARAMETERS FOR RBF KERNEL\n",
    "\n",
    "Consider $\\texttt{svm.SVR}$ with RBF kernel. Consider the following hyperparameters and their values:\n",
    "- $C: [0.1, 1, 10, 100, 1000]$\n",
    "- $gamma: [0.01, 0.03, 0.04, 0.05]$\n",
    "\n",
    "Leave all other input parameters to default. \n",
    "\n",
    "Find the best value of the hyperparameters using 5-fold cross validation. Use the function defined above to perform the cross-validation.\n",
    "\n",
    "Print the best value of the hyperparameters."
   ]
  },
  {
   "cell_type": "code",
   "execution_count": 14,
   "metadata": {
    "tags": []
   },
   "outputs": [
    {
     "name": "stdout",
     "output_type": "stream",
     "text": [
      "\n",
      "RBF SVM\n",
      "Best value for hyperparameters:  {'kernel': 'rbf', 'gamma': 0.05, 'C': 1000, 'epsilon': 100}\n"
     ]
    }
   ],
   "source": [
    "print(\"\\nRBF SVM\")\n",
    "\n",
    "rbf_best_param = k_fold_cross_validation(X_train_val,\n",
    "                                         Y_train_val,\n",
    "                                         num_folds=5,\n",
    "                                         kernel = ['rbf'],\n",
    "                                         gamma=[0.01, 0.03, 0.04, 0.05],\n",
    "                                         C=[0.1, 1, 10, 100, 1000],\n",
    "                                         epsilon = [100]\n",
    "                                         )\n",
    "\n",
    "print(\"Best value for hyperparameters: \", rbf_best_param)"
   ]
  },
  {
   "cell_type": "markdown",
   "metadata": {},
   "source": [
    "## TO DO - LEARN A MODEL WITH RBF KERNEL AND BEST CHOICE OF HYPERPARAMETERS\n",
    "\n",
    "This model will be compared with the best models with other kernels using validation (not cross validation).\n",
    "\n",
    "DO NOT PASS PARAMETERS BY HARD-CODING THEM IN THE CODE.\n",
    "\n",
    "Print the **training score** (that is, $R^2$ coefficient) of the best model, trained with the best parameter find from the above cell."
   ]
  },
  {
   "cell_type": "code",
   "execution_count": 15,
   "metadata": {
    "tags": []
   },
   "outputs": [
    {
     "name": "stdout",
     "output_type": "stream",
     "text": [
      "Training score: 0.8658074662664135\n"
     ]
    }
   ],
   "source": [
    "rbf_model = svm.SVR(kernel=rbf_best_param['kernel'],\n",
    "                    gamma=rbf_best_param['gamma'],\n",
    "                    C=rbf_best_param['C'],\n",
    "                    epsilon=rbf_best_param['epsilon']\n",
    "                    )  # create a model with the current best parameter\n",
    "\n",
    "rbf_model.fit(X_train_scaled, Y_train)\n",
    "rbf_training_score = rbf_model.score(X_train_scaled, Y_train)\n",
    "print(\"Training score:\", rbf_training_score)"
   ]
  },
  {
   "cell_type": "markdown",
   "metadata": {
    "tags": []
   },
   "source": [
    "## TO DO - CHOOSE THE BEST HYPERPARAMETERS FOR SIGMOID KERNEL\n",
    "\n",
    "Consider $\\texttt{svm.SVR}$ with sigmoid kernel. Consider the following hyperparameters and their values:\n",
    "- $C: [0.1, 1, 10, 100, 1000]$\n",
    "- $gamma: [0.01, 0.05, 0.1]$\n",
    "- $coef0: [0, 1]$\n",
    "\n",
    "Leave all other input parameters to default. \n",
    "\n",
    "Find the best value of the hyperparameters using 5-fold cross validation. Use the function defined above to perform the cross-validation.\n",
    "\n",
    "Print the best value of the hyperparameters."
   ]
  },
  {
   "cell_type": "code",
   "execution_count": 16,
   "metadata": {
    "tags": []
   },
   "outputs": [
    {
     "name": "stdout",
     "output_type": "stream",
     "text": [
      "\n",
      "Sigmoid SVM\n",
      "Best value for hyperparameters:  {'kernel': 'sigmoid', 'gamma': 0.01, 'coef0': 0, 'C': 1000, 'epsilon': 100}\n"
     ]
    }
   ],
   "source": [
    "print(\"\\nSigmoid SVM\")\n",
    "\n",
    "sigmoid_best_param = k_fold_cross_validation(X_train_val,\n",
    "                                             Y_train_val,\n",
    "                                             num_folds=5,\n",
    "                                             kernel = ['sigmoid'],\n",
    "                                             gamma=[0.01, 0.05, 0.1],\n",
    "                                             coef0=[0, 1],\n",
    "                                             C=[0.1, 1, 10, 100, 1000],\n",
    "                                             epsilon = [100]\n",
    "                                             )\n",
    "\n",
    "print(\"Best value for hyperparameters: \", sigmoid_best_param)"
   ]
  },
  {
   "cell_type": "markdown",
   "metadata": {
    "tags": []
   },
   "source": [
    "## TO DO - LEARN A MODEL WITH SIGMOID KERNEL AND BEST CHOICE OF HYPERPARAMETERS\n",
    "\n",
    "This model will be compared with the best models with other kernels using validation (not cross validation).\n",
    "\n",
    "DO NOT PASS PARAMETERS BY HARD-CODING THEM IN THE CODE.\n",
    "\n",
    "Print the **training score** (that is, $R^2$ coefficient) of the best model, trained with the best parameter find from the above cell."
   ]
  },
  {
   "cell_type": "code",
   "execution_count": 17,
   "metadata": {
    "tags": []
   },
   "outputs": [
    {
     "name": "stdout",
     "output_type": "stream",
     "text": [
      "Training score: 0.7845478483700403\n"
     ]
    }
   ],
   "source": [
    "sigmoid_model = svm.SVR(kernel=sigmoid_best_param['kernel'],\n",
    "                        gamma=sigmoid_best_param['gamma'],\n",
    "                        coef0=sigmoid_best_param['coef0'],\n",
    "                        C=sigmoid_best_param['C'],\n",
    "                        epsilon=sigmoid_best_param['epsilon']\n",
    "                        )  # create a model with the current best parameter\n",
    "\n",
    "sigmoid_model.fit(X_train_scaled, Y_train)\n",
    "sigmoid_training_score = sigmoid_model.score(X_train_scaled, Y_train)\n",
    "print(\"Training score:\", sigmoid_training_score)"
   ]
  },
  {
   "cell_type": "markdown",
   "metadata": {
    "tags": []
   },
   "source": [
    "## TO DO - USE VALIDATION TO CHOOSE THE BEST MODEL AMONG THE ONES LEARNED FOR THE VARIOUS KERNELS\n",
    "\n",
    "Use validation to choose the best model among the four ones (one for each kernel) you have learned above.\n",
    "\n",
    "Print, following exactly the order described here, with 1 value for each line:\n",
    "- the validation score of SVM with linear kernel (the template below does not include such print)\n",
    "- the validation score of SVM with polynomial kernel (the template below does not include such print)\n",
    "- the validation score of SVM with rbf kernel (the template below does not include such print)\n",
    "- the validation score of SVM with sigmoid kernel (the template below does not include such print)\n",
    "- the best kernel (e.g., sigmoid) \n",
    "- the validation score of the best kernel \n",
    "\n",
    "For the first 4 prints, use the format: \"*kernel* validation score: \". For example, for linear kernel \"linear validation score: \", for rbf \"rbf validation score: \""
   ]
  },
  {
   "cell_type": "code",
   "execution_count": 18,
   "metadata": {
    "tags": []
   },
   "outputs": [
    {
     "name": "stdout",
     "output_type": "stream",
     "text": [
      "\n",
      "VALIDATION TO CHOOSE SVM KERNEL:\n",
      "Linear validation score: 0.8368843457712244\n",
      "Poly validation score: 0.7409124543450272\n",
      "rbf validation score: 0.8640033989740028\n",
      "Sigmoid validation score: 0.7807720338438254\n",
      "\n",
      "---\n",
      "Best kernel:  rbf\n",
      "Validation score of best kernel:  0.8640033989740028\n"
     ]
    }
   ],
   "source": [
    "print(\"\\nVALIDATION TO CHOOSE SVM KERNEL:\")\n",
    "\n",
    "# -- Validation score for each kernel\n",
    "\n",
    "# -- Linear Kernel\n",
    "linear_val_score = linearKernel_model.score(X_val_scaled, Y_val)\n",
    "print(\"Linear validation score:\", linear_val_score)\n",
    "\n",
    "# -- Poly Kernel\n",
    "poly_val_score = poly_model.score(X_val_scaled, Y_val)\n",
    "print(\"Poly validation score:\", poly_val_score)\n",
    "\n",
    "# -- RBF Kernel\n",
    "rbf_val_score = rbf_model.score(X_val_scaled, Y_val)\n",
    "print(\"rbf validation score:\", rbf_val_score)\n",
    "\n",
    "# -- Sigmoid Kernel\n",
    "sigmoid_val_score = sigmoid_model.score(X_val_scaled, Y_val)\n",
    "print(\"Sigmoid validation score:\", sigmoid_val_score)\n",
    "\n",
    "# -- Best kernel\n",
    "max_val_score = max(linear_val_score, poly_val_score, rbf_val_score, sigmoid_val_score)\n",
    "\n",
    "# -- Saving in best_hyperparam the best kernel hyperparameters to access them later\n",
    "if max_val_score == linear_val_score:\n",
    "\tbest_hyperparam = linear_best_param\n",
    "elif max_val_score == poly_val_score:\n",
    "\tbest_hyperparam = poly_best_param\n",
    "elif max_val_score == rbf_val_score:\n",
    "\tbest_hyperparam = rbf_best_param\n",
    "elif max_val_score == sigmoid_val_score:\n",
    "\tbest_hyperparam = sigmoid_best_param\n",
    "else:\n",
    "\tbest_hyperparam = None\n",
    "\n",
    "# -- Using best_hyperparam to get the best kernel\n",
    "best_kernel = best_hyperparam['kernel']\n",
    "print(\"\\n---\\nBest kernel: \", best_kernel)\n",
    "print(\"Validation score of best kernel: \", max_val_score)"
   ]
  },
  {
   "cell_type": "markdown",
   "metadata": {},
   "source": [
    "## TO DO - LEARN THE FINAL MODEL FOR WHICH YOU WANT TO ESTIMATE THE GENERALIZATION SCORE\n",
    "\n",
    "Learn the final model (i.e., the one you would use to make predictions about future data).\n",
    "\n",
    "Print the **final model hyperparameters** and the **score** of the model on the data used to learn it."
   ]
  },
  {
   "cell_type": "code",
   "execution_count": 19,
   "metadata": {
    "tags": []
   },
   "outputs": [
    {
     "name": "stdout",
     "output_type": "stream",
     "text": [
      "\n",
      "BEST MODEL:\n",
      "Best model hyperparameters: {'kernel': 'rbf', 'gamma': 0.05, 'C': 1000, 'epsilon': 100}\n",
      "Score of the best model on the data used to learn it:  0.8668471192888929\n"
     ]
    }
   ],
   "source": [
    "print(\"\\nBEST MODEL:\")\n",
    "\n",
    "# -- Saving both the best model (I'll access to it to calculate the generalization score)\n",
    "# and its training score (I save it to avoid retraining and re-evaluating the model, because I've done it already)\n",
    "if best_kernel == 'linear':\n",
    "\tbest_model = linearKernel_model\n",
    "elif best_kernel == 'poly':\n",
    "\tbest_model = poly_model\n",
    "elif best_kernel == 'rbf':\n",
    "\tbest_model = rbf_model\n",
    "elif best_kernel == 'sigmoid':\n",
    "\tbest_model = sigmoid_model\n",
    "else:\n",
    "\tbest_model = None\n",
    "\tbest_model_training_score = None\n",
    "\n",
    "### IMPORTANT! ###\n",
    "# I'm going to train the best model on the whole training set, not only on the training set ####\n",
    "\n",
    "#Standardize the data on the whole training set\n",
    "scaler = preprocessing.StandardScaler().fit(X_train_val)\n",
    "X_train_val_scaled = scaler.transform(X_train_val)\n",
    "X_test_scaled = scaler.transform(X_test)\n",
    "\n",
    "#Training the best model on the whole training set\n",
    "best_model.fit(X_train_val_scaled, Y_train_val)\n",
    "best_model_training_score = best_model.score(X_train_val_scaled, Y_train_val)\n",
    "\n",
    "print(\"Best model hyperparameters:\", best_hyperparam)\n",
    "print(\"Score of the best model on the data used to learn it: \", best_model_training_score)"
   ]
  },
  {
   "cell_type": "markdown",
   "metadata": {
    "tags": []
   },
   "source": [
    "## TO DO - PRINT THE ESTIMATE  OF THE GENERALIZATION SCORE FOR THE FINAL MODEL\n",
    "\n",
    "Print the estimate of the generalization **score** for the final model. The generalization \"score\" is the score computed on the data used to estimate the generalization error."
   ]
  },
  {
   "cell_type": "code",
   "execution_count": 20,
   "metadata": {
    "tags": []
   },
   "outputs": [
    {
     "name": "stdout",
     "output_type": "stream",
     "text": [
      "\n",
      "GENERALIZATION SCORE BEST MODEL:\n",
      "Estimate of the generalization score for best SVM model:  0.8673884659579472\n"
     ]
    }
   ],
   "source": [
    "print(\"\\nGENERALIZATION SCORE BEST MODEL:\")\n",
    "\n",
    "# -- Generalization score of the best model\n",
    "best_model_gen_score = best_model.score(X_test_scaled, Y_test)\n",
    "\n",
    "print(\"Estimate of the generalization score for best SVM model: \", best_model_gen_score)"
   ]
  },
  {
   "cell_type": "markdown",
   "metadata": {
    "tags": []
   },
   "source": [
    "## TO DO - ANSWER THE FOLLOWING\n",
    "\n",
    "Print the **training score** (score on data used to train the model) and the **generalization score** (score on data used to assess generalization) of the final SVM model THAT YOU OBTAIN WHEN YOU RUN THE CODE, one per line, printing the smallest one first. \n",
    "\n",
    "NOTE: THE VALUES HERE SHOULD BE HARDCODED.\n",
    "\n",
    "Print you answer (YES/NO) to the following question: does the relation (i.e., smaller, larger) between the training score and the generalization score agree with the theory?\n",
    "\n",
    "Print your motivation for the YES/NO answer above, using at most 500 characters."
   ]
  },
  {
   "cell_type": "code",
   "execution_count": 21,
   "metadata": {
    "tags": []
   },
   "outputs": [
    {
     "name": "stdout",
     "output_type": "stream",
     "text": [
      "\n",
      "ANSWER\n",
      "Training score:  0.8668471192888929\n",
      "Generalization score:  0.8673884659579472\n",
      "\n",
      " \n",
      "-NO\n",
      "In theory, the training score should be higher, as it is computed on the data used to train the model,\n",
      "while the generalization score is computed on unseen data.\n",
      "A higher generalization score is unusual but can be explained by random split effects.\n",
      "The dataset's random division might produce a test set that better represents the data distribution than the training set,\n",
      "slightly increasing the generalization score.\n",
      "Repeating evaluations across multiple splits is advised to ensure consistency.\n"
     ]
    }
   ],
   "source": [
    "print(\"\\nANSWER\")\n",
    "\n",
    "# -- note that you may have to invert the order of the following 2 lines, print the smallest 1 first\n",
    "print(\"Training score: \", best_model_training_score)\n",
    "print(\"Generalization score: \", best_model_gen_score)\n",
    "\n",
    "# -- the following is a string with you answer\n",
    "motivation_yes = (\"\\n \\n-YES \\n\"\n",
    "\"The generalization score being lower than the training score is consistent with the theory. \\n\"\n",
    "\"This occurs because the model is trained to minimize error on the training data, resulting in a high score there. \\n\"\n",
    "\"In contrast, the generalization score reflects the model's ability to perform on unseen data. \\n\"\n",
    "\"This is more challenging because here we're generalizing our model on new and unseen data, leading to a lower score. \\n\"\n",
    "\"Furthermore, the high values and the small difference between the scores suggest that the model is not overfitting and is generalizing well. \\n\")\n",
    "\n",
    "motivation_no = (\"\\n \\n-NO\\n\"\n",
    "\"In theory, the training score should be higher, as it is computed on the data used to train the model,\\n\"\n",
    "\"while the generalization score is computed on unseen data.\\n\"\n",
    "\"A higher generalization score is unusual but can be explained by random split effects.\\n\"\n",
    "\"The dataset's random division might produce a test set that better represents the data distribution than the training set,\\n\"\n",
    "\"slightly increasing the generalization score.\\n\"\n",
    "\"Repeating evaluations across multiple splits is advised to ensure consistency.\")\n",
    "\n",
    "\n",
    "print(motivation_no)"
   ]
  },
  {
   "cell_type": "markdown",
   "metadata": {
    "tags": []
   },
   "source": [
    "## TO DO: LEARN A STANDARD LINEAR MODEL\n",
    "Learn a standard linear model using scikit learn.\n",
    "\n",
    "Print the **score** of the model on the data used to learn it.\n",
    "\n",
    "Print the **generalization score** of the model."
   ]
  },
  {
   "cell_type": "code",
   "execution_count": 22,
   "metadata": {},
   "outputs": [
    {
     "name": "stdout",
     "output_type": "stream",
     "text": [
      "\n",
      "LR MODEL\n",
      "Score of LR model on data used to learn it:  0.8537716635083005\n",
      "Generalization score of LR model:  0.8440963478424226\n"
     ]
    }
   ],
   "source": [
    "print(\"\\nLR MODEL\")\n",
    "\n",
    "# -- Linear Regression model\n",
    "lr_model = linear_model.LinearRegression()\n",
    "lr_model.fit(X_train_val_scaled, Y_train_val)\n",
    "print(\"Score of LR model on data used to learn it: \", lr_model.score(X_train_val_scaled, Y_train_val))\n",
    "print(\"Generalization score of LR model: \", lr_model.score(X_test_scaled, Y_test))"
   ]
  }
 ],
 "metadata": {
  "anaconda-cloud": {},
  "celltoolbar": "Raw Cell Format",
  "kernelspec": {
   "display_name": "base",
   "language": "python",
   "name": "python3"
  },
  "language_info": {
   "codemirror_mode": {
    "name": "ipython",
    "version": 3
   },
   "file_extension": ".py",
   "mimetype": "text/x-python",
   "name": "python",
   "nbconvert_exporter": "python",
   "pygments_lexer": "ipython3",
   "version": "3.12.3"
  }
 },
 "nbformat": 4,
 "nbformat_minor": 4
}
